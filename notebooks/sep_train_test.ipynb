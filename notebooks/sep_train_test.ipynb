{
 "cells": [
  {
   "cell_type": "code",
   "execution_count": 95,
   "metadata": {},
   "outputs": [],
   "source": [
    "import pandas as pd\n",
    "import numpy as np\n",
    "import matplotlib.pyplot as plt"
   ]
  },
  {
   "cell_type": "code",
   "execution_count": 141,
   "metadata": {},
   "outputs": [],
   "source": [
    "df = pd.read_csv('new_york_sample_1km.csv')"
   ]
  },
  {
   "cell_type": "code",
   "execution_count": 142,
   "metadata": {},
   "outputs": [
    {
     "data": {
      "text/html": [
       "<div>\n",
       "<style scoped>\n",
       "    .dataframe tbody tr th:only-of-type {\n",
       "        vertical-align: middle;\n",
       "    }\n",
       "\n",
       "    .dataframe tbody tr th {\n",
       "        vertical-align: top;\n",
       "    }\n",
       "\n",
       "    .dataframe thead th {\n",
       "        text-align: right;\n",
       "    }\n",
       "</style>\n",
       "<table border=\"1\" class=\"dataframe\">\n",
       "  <thead>\n",
       "    <tr style=\"text-align: right;\">\n",
       "      <th></th>\n",
       "      <th>uid</th>\n",
       "      <th>t</th>\n",
       "      <th>d</th>\n",
       "      <th>x</th>\n",
       "      <th>y</th>\n",
       "    </tr>\n",
       "  </thead>\n",
       "  <tbody>\n",
       "    <tr>\n",
       "      <th>0</th>\n",
       "      <td>67</td>\n",
       "      <td>17</td>\n",
       "      <td>13.0</td>\n",
       "      <td>653</td>\n",
       "      <td>39</td>\n",
       "    </tr>\n",
       "    <tr>\n",
       "      <th>1</th>\n",
       "      <td>67</td>\n",
       "      <td>19</td>\n",
       "      <td>13.0</td>\n",
       "      <td>640</td>\n",
       "      <td>26</td>\n",
       "    </tr>\n",
       "    <tr>\n",
       "      <th>2</th>\n",
       "      <td>67</td>\n",
       "      <td>20</td>\n",
       "      <td>13.0</td>\n",
       "      <td>640</td>\n",
       "      <td>26</td>\n",
       "    </tr>\n",
       "    <tr>\n",
       "      <th>3</th>\n",
       "      <td>67</td>\n",
       "      <td>39</td>\n",
       "      <td>13.0</td>\n",
       "      <td>641</td>\n",
       "      <td>27</td>\n",
       "    </tr>\n",
       "    <tr>\n",
       "      <th>4</th>\n",
       "      <td>67</td>\n",
       "      <td>0</td>\n",
       "      <td>14.0</td>\n",
       "      <td>644</td>\n",
       "      <td>30</td>\n",
       "    </tr>\n",
       "    <tr>\n",
       "      <th>...</th>\n",
       "      <td>...</td>\n",
       "      <td>...</td>\n",
       "      <td>...</td>\n",
       "      <td>...</td>\n",
       "      <td>...</td>\n",
       "    </tr>\n",
       "    <tr>\n",
       "      <th>69343</th>\n",
       "      <td>2647547</td>\n",
       "      <td>23</td>\n",
       "      <td>19.0</td>\n",
       "      <td>613</td>\n",
       "      <td>3</td>\n",
       "    </tr>\n",
       "    <tr>\n",
       "      <th>69344</th>\n",
       "      <td>2647547</td>\n",
       "      <td>1</td>\n",
       "      <td>20.0</td>\n",
       "      <td>631</td>\n",
       "      <td>10</td>\n",
       "    </tr>\n",
       "    <tr>\n",
       "      <th>69345</th>\n",
       "      <td>2647547</td>\n",
       "      <td>16</td>\n",
       "      <td>20.0</td>\n",
       "      <td>631</td>\n",
       "      <td>20</td>\n",
       "    </tr>\n",
       "    <tr>\n",
       "      <th>69346</th>\n",
       "      <td>2647547</td>\n",
       "      <td>21</td>\n",
       "      <td>20.0</td>\n",
       "      <td>640</td>\n",
       "      <td>36</td>\n",
       "    </tr>\n",
       "    <tr>\n",
       "      <th>69347</th>\n",
       "      <td>2647547</td>\n",
       "      <td>22</td>\n",
       "      <td>20.0</td>\n",
       "      <td>638</td>\n",
       "      <td>28</td>\n",
       "    </tr>\n",
       "  </tbody>\n",
       "</table>\n",
       "<p>69348 rows × 5 columns</p>\n",
       "</div>"
      ],
      "text/plain": [
       "           uid   t     d    x   y\n",
       "0           67  17  13.0  653  39\n",
       "1           67  19  13.0  640  26\n",
       "2           67  20  13.0  640  26\n",
       "3           67  39  13.0  641  27\n",
       "4           67   0  14.0  644  30\n",
       "...        ...  ..   ...  ...  ..\n",
       "69343  2647547  23  19.0  613   3\n",
       "69344  2647547   1  20.0  631  10\n",
       "69345  2647547  16  20.0  631  20\n",
       "69346  2647547  21  20.0  640  36\n",
       "69347  2647547  22  20.0  638  28\n",
       "\n",
       "[69348 rows x 5 columns]"
      ]
     },
     "execution_count": 142,
     "metadata": {},
     "output_type": "execute_result"
    }
   ],
   "source": [
    "df.columns = ['uid', 't', 'd', 'x', 'y']\n",
    "df"
   ]
  },
  {
   "cell_type": "code",
   "execution_count": 143,
   "metadata": {},
   "outputs": [
    {
     "data": {
      "text/plain": [
       "uid    2647547.0\n",
       "t           45.0\n",
       "d           20.0\n",
       "x          877.0\n",
       "y          681.0\n",
       "dtype: float64"
      ]
     },
     "execution_count": 143,
     "metadata": {},
     "output_type": "execute_result"
    }
   ],
   "source": [
    "df.max()"
   ]
  },
  {
   "cell_type": "code",
   "execution_count": 144,
   "metadata": {},
   "outputs": [
    {
     "data": {
      "text/plain": [
       "array([13., 14., 15., 16., 17., 18., 19., 20.,  1.,  2.,  3.,  4.,  5.,\n",
       "        6.,  7.,  8.,  9., 10., 11., 12.])"
      ]
     },
     "execution_count": 144,
     "metadata": {},
     "output_type": "execute_result"
    }
   ],
   "source": [
    "df[\"d\"].unique()"
   ]
  },
  {
   "cell_type": "code",
   "execution_count": 145,
   "metadata": {},
   "outputs": [
    {
     "name": "stdout",
     "output_type": "stream",
     "text": [
      "877\n",
      "681\n",
      "45\n",
      "20.0\n"
     ]
    }
   ],
   "source": [
    "print(df['x'].max())\n",
    "print(df['y'].max())\n",
    "print(df['t'].max())\n",
    "print(df['d'].max())"
   ]
  },
  {
   "cell_type": "code",
   "execution_count": 146,
   "metadata": {},
   "outputs": [],
   "source": [
    "users_in_train = int(df['uid'].nunique()*0.8)\n",
    "users_in_test = df['uid'].nunique() - users_in_train\n",
    "\n",
    "users_list_train = df['uid'].unique()[:users_in_train]\n",
    "users_list_test = df['uid'].unique()[users_in_train:]"
   ]
  },
  {
   "cell_type": "code",
   "execution_count": 147,
   "metadata": {},
   "outputs": [],
   "source": [
    "train = df[df[\"uid\"].isin(users_list_train)]\n",
    "test = df[df[\"uid\"].isin(users_list_test)]"
   ]
  },
  {
   "cell_type": "code",
   "execution_count": 148,
   "metadata": {},
   "outputs": [],
   "source": [
    "train = train.astype(dtype = {'uid': 'int64', 't': 'int64', 'd': 'int64', 'x': 'int64', 'y': 'int64'})\n",
    "test = test.astype(dtype = {'uid': 'int64', 't': 'int64', 'd': 'int64', 'x': 'int64', 'y': 'int64'})"
   ]
  },
  {
   "cell_type": "code",
   "execution_count": 149,
   "metadata": {},
   "outputs": [],
   "source": [
    "train.sort_values(['uid', 'd', 't'], ascending=True).to_csv(\"train.csv\", index=False)\n",
    "test.sort_values(['uid', 'd', 't'], ascending=True).to_csv(\"test.csv\", index=False)\n",
    "# train.to_csv(\"train.csv\", index=False)"
   ]
  },
  {
   "cell_type": "code",
   "execution_count": 71,
   "metadata": {},
   "outputs": [
    {
     "data": {
      "text/plain": [
       "[1, 2, 3, 4, 5, 6, 7, 8, 9, 10, 11, 12]"
      ]
     },
     "execution_count": 71,
     "metadata": {},
     "output_type": "execute_result"
    }
   ],
   "source": [
    "sorted(train['d'].unique())"
   ]
  },
  {
   "cell_type": "code",
   "execution_count": 33,
   "metadata": {},
   "outputs": [],
   "source": [
    "test_data = test.sort_values(['uid', 'd', 't'], ascending=True)\n",
    "test_data = test[test['d']<=10]\n",
    "test_validation = test[test['d']>10]\n",
    "test_data.to_csv(\"test.csv\", index=False)\n",
    "test_validation.to_csv(\"validation.csv\", index=False)"
   ]
  },
  {
   "cell_type": "code",
   "execution_count": 72,
   "metadata": {},
   "outputs": [
    {
     "data": {
      "text/plain": [
       "array([1, 2, 3, 4, 5, 6, 7])"
      ]
     },
     "execution_count": 72,
     "metadata": {},
     "output_type": "execute_result"
    }
   ],
   "source": [
    "d_unique = np.unique(train['d'])\n",
    "d_unique[(d_unique >= np.min(d_unique)) & (d_unique <= np.max(d_unique) - 5)]"
   ]
  },
  {
   "cell_type": "code",
   "execution_count": 73,
   "metadata": {},
   "outputs": [],
   "source": [
    "mask_d_start = np.random.choice(d_unique[(d_unique >= np.min(d_unique)) & (d_unique <= np.max(d_unique) - 5)])\n",
    "mask_d_end = mask_d_start + 4\n",
    "need_mask_idx = np.where((train['d'] >= mask_d_start) & (train['d'] <= mask_d_end))"
   ]
  },
  {
   "cell_type": "code",
   "execution_count": 74,
   "metadata": {},
   "outputs": [
    {
     "name": "stdout",
     "output_type": "stream",
     "text": [
      "6 10\n"
     ]
    }
   ],
   "source": [
    "print(mask_d_start, mask_d_end)"
   ]
  },
  {
   "cell_type": "code",
   "execution_count": 75,
   "metadata": {},
   "outputs": [
    {
     "data": {
      "text/plain": [
       "(array([   2,    3,    4, ..., 5612, 5613, 5614]),)"
      ]
     },
     "execution_count": 75,
     "metadata": {},
     "output_type": "execute_result"
    }
   ],
   "source": [
    "need_mask_idx"
   ]
  },
  {
   "cell_type": "code",
   "execution_count": 3,
   "metadata": {},
   "outputs": [
    {
     "data": {
      "text/plain": [
       "14"
      ]
     },
     "execution_count": 3,
     "metadata": {},
     "output_type": "execute_result"
    }
   ],
   "source": [
    "pd.read_csv('train.csv').d.max()"
   ]
  },
  {
   "cell_type": "code",
   "execution_count": 7,
   "metadata": {},
   "outputs": [
    {
     "data": {
      "text/plain": [
       "0        15\n",
       "1        15\n",
       "2        16\n",
       "3        16\n",
       "4        16\n",
       "         ..\n",
       "43572    16\n",
       "43573    17\n",
       "43574    17\n",
       "43575    18\n",
       "43576    18\n",
       "Name: d, Length: 43577, dtype: int64"
      ]
     },
     "execution_count": 7,
     "metadata": {},
     "output_type": "execute_result"
    }
   ],
   "source": [
    "pd.read_csv('test.csv').d"
   ]
  }
 ],
 "metadata": {
  "kernelspec": {
   "display_name": "Python 3",
   "language": "python",
   "name": "python3"
  },
  "language_info": {
   "codemirror_mode": {
    "name": "ipython",
    "version": 3
   },
   "file_extension": ".py",
   "mimetype": "text/x-python",
   "name": "python",
   "nbconvert_exporter": "python",
   "pygments_lexer": "ipython3",
   "version": "3.10.12"
  }
 },
 "nbformat": 4,
 "nbformat_minor": 2
}
